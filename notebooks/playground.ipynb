{
 "cells": [
  {
   "cell_type": "code",
   "execution_count": 1,
   "id": "97d5aff5-132d-4901-89f7-2ea4871a4bb5",
   "metadata": {},
   "outputs": [],
   "source": [
    "import cv2\n",
    "import numpy as np\n",
    "import os\n",
    "import logging\n",
    "from utils import read_yaml,file_exists"
   ]
  },
  {
   "cell_type": "code",
   "execution_count": 2,
   "id": "2ad04bf3-c177-4c4b-850a-85aa21177ec6",
   "metadata": {},
   "outputs": [],
   "source": [
    "logging_str = \"[%(asctime)s: %(levelname)s: %(module)s]: %(message)s\"\n",
    "log_dir = \"logs\"\n",
    "os.makedirs(log_dir, exist_ok=True)\n",
    "logging.basicConfig(filename=os.path.join(log_dir,\"ekyc_logs.log\"), level=logging.INFO, format=logging_str, filemode=\"a\")"
   ]
  },
  {
   "cell_type": "code",
   "execution_count": 4,
   "id": "3bd3ce5a-e4ea-4382-9f4e-2f96b4bd31f1",
   "metadata": {},
   "outputs": [],
   "source": [
    "config_path = \"config.yaml\"\n",
    "config = read_yaml(config_path)"
   ]
  },
  {
   "cell_type": "code",
   "execution_count": 7,
   "id": "7c45f8c8-0d5e-4a24-ba4d-51ad7ee22f29",
   "metadata": {},
   "outputs": [],
   "source": [
    "artifacts = config['artifacts']\n",
    "intermediate_dir_path = artifacts['INTERMEDIATE_DIR']\n",
    "conour_file_name = artifacts['CONTOUR_FILE']"
   ]
  },
  {
   "cell_type": "code",
   "execution_count": 8,
   "id": "952cd396-c187-4edd-a400-84d748a15a43",
   "metadata": {},
   "outputs": [],
   "source": [
    "def read_image(image_path, is_uploaded=False):\n",
    "    if is_uploaded:\n",
    "        try:\n",
    "            # Read image using OpenCV\n",
    "            image_bytes = image_path.read()\n",
    "            img = cv2.imdecode(np.frombuffer(image_bytes, np.uint8), cv2.IMREAD_COLOR)\n",
    "            if img is None:\n",
    "                logging.info(\"Failed to read image: {}\".format(image_path))\n",
    "                raise Exception(\"Failed to read image: {}\".format(image_path))\n",
    "            return img\n",
    "        except Exception as e:\n",
    "            logging.info(f\"Error reading image: {e}\")\n",
    "            print(\"Error reading image:\", e)\n",
    "            return None\n",
    "    else:\n",
    "        try:\n",
    "            img = cv2.imread(image_path)\n",
    "            if img is None:\n",
    "                logging.info(\"Failed to read image: {}\".format(image_path))\n",
    "                raise Exception(\"Failed to read image: {}\".format(image_path))\n",
    "            return img\n",
    "        except Exception as e:\n",
    "            logging.info(f\"Error reading image: {e}\")\n",
    "            print(\"Error reading image:\", e)\n",
    "            return None"
   ]
  },
  {
   "cell_type": "code",
   "execution_count": 9,
   "id": "a406e668-bb6e-46dc-b8d3-13fbdcedfce6",
   "metadata": {},
   "outputs": [],
   "source": [
    "def extract_id_card(img):\n",
    "    \"\"\"\n",
    "    Extracts the ID card from an image containing other backgrounds.\n",
    "\n",
    "    Args:\n",
    "        img (np.ndarray): The input image.\n",
    "\n",
    "    Returns:\n",
    "        np.ndarray: The cropped image containing the ID card, or None if no ID card is detected.\n",
    "    \"\"\"\n",
    "\n",
    "    # Convert image to grayscale\n",
    "    gray_img = cv2.cvtColor(img, cv2.COLOR_BGR2GRAY)\n",
    "\n",
    "    # Noise reduction\n",
    "    blur = cv2.GaussianBlur(gray_img, (5, 5), 0)\n",
    "\n",
    "    # Adaptive thresholding\n",
    "    thresh = cv2.adaptiveThreshold(blur, 255, cv2.ADAPTIVE_THRESH_MEAN_C, cv2.THRESH_BINARY, 11, 2)\n",
    "\n",
    "    # Find contours\n",
    "    contours, _ = cv2.findContours(thresh, cv2.RETR_EXTERNAL, cv2.CHAIN_APPROX_SIMPLE)\n",
    "\n",
    "    # Select the largest contour (assuming the ID card is the largest object)\n",
    "    largest_contour = None\n",
    "    largest_area = 0\n",
    "    for cnt in contours:\n",
    "        area = cv2.contourArea(cnt)\n",
    "        if area > largest_area:\n",
    "            largest_contour = cnt\n",
    "            largest_area = area\n",
    "\n",
    "    # If no large contour is found, assume no ID card is present\n",
    "    if not largest_contour.any():\n",
    "        return None\n",
    "\n",
    "    # Get bounding rectangle of the largest contour\n",
    "    x, y, w, h = cv2.boundingRect(largest_contour)\n",
    "\n",
    "    logging.info(f\"contours are found at, {(x, y, w, h)}\")\n",
    "    # logging.info(\"Area largest_area)\n",
    "\n",
    "    # Apply additional filtering (optional):\n",
    "    # - Apply bilateral filtering for noise reduction\n",
    "    # filtered_img = cv2.bilateralFiltering(img[y:y+h, x:x+w], 9, 75, 75)\n",
    "    # - Morphological operations (e.g., erosion, dilation) for shape refinement\n",
    "    current_wd = os.getcwd()\n",
    "    filename = os.path.join(current_wd,intermediate_dir_path, conour_file_name)\n",
    "    contour_id = img[y:y+h, x:x+w]\n",
    "    is_exists = file_exists(filename)\n",
    "    if is_exists:\n",
    "        # Remove the existing file\n",
    "        os.remove(filename)\n",
    "\n",
    "    cv2.imwrite(filename, contour_id)\n",
    "\n",
    "    return contour_id, filename"
   ]
  },
  {
   "cell_type": "code",
   "execution_count": 10,
   "id": "af956279-6645-469e-9611-3821dbe5d49f",
   "metadata": {},
   "outputs": [],
   "source": [
    "def save_image(image, filename, path=\".\"):\n",
    "  \"\"\"\n",
    "  Saves an image to a specified path with the given filename.\n",
    "\n",
    "  Args:\n",
    "      image (np.ndarray): The image data (NumPy array).\n",
    "      filename (str): The desired filename for the saved image.\n",
    "      path (str, optional): The directory path to save the image. Defaults to \".\" (current directory).\n",
    "  \"\"\"\n",
    "\n",
    "  # Construct the full path\n",
    "  full_path = os.path.join(path, filename)\n",
    "  is_exists = file_exists(full_path)\n",
    "  if is_exists:\n",
    "        # Remove the existing file\n",
    "        os.remove(full_path)\n",
    "\n",
    "  # Save the image using cv2.imwrite\n",
    "  cv2.imwrite(full_path, image)\n",
    "\n",
    "  logging.info(f\"Image saved successfully: {full_path}\")\n",
    "  return full_path"
   ]
  },
  {
   "cell_type": "code",
   "execution_count": null,
   "id": "839eb1df-6eaa-4c13-91ab-79b9f477eb78",
   "metadata": {},
   "outputs": [],
   "source": []
  }
 ],
 "metadata": {
  "kernelspec": {
   "display_name": "Python 3 (ipykernel)",
   "language": "python",
   "name": "python3"
  },
  "language_info": {
   "codemirror_mode": {
    "name": "ipython",
    "version": 3
   },
   "file_extension": ".py",
   "mimetype": "text/x-python",
   "name": "python",
   "nbconvert_exporter": "python",
   "pygments_lexer": "ipython3",
   "version": "3.10.9"
  }
 },
 "nbformat": 4,
 "nbformat_minor": 5
}
